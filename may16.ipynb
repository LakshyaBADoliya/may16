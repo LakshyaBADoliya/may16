{
 "cells": [
  {
   "cell_type": "code",
   "execution_count": 1,
   "id": "be2d9523-b788-449e-9515-39e862336e39",
   "metadata": {},
   "outputs": [
    {
     "name": "stdout",
     "output_type": "stream",
     "text": [
      "153 370 371 407 "
     ]
    }
   ],
   "source": [
    "for num in range(100, 1000):\n",
    "    h = num // 100\n",
    "    t = (num // 10) % 10\n",
    "    u = num % 10\n",
    "    if num == h**3 + t**3 + u**3:\n",
    "        print(num,end=\" \")\n"
   ]
  },
  {
   "cell_type": "code",
   "execution_count": 2,
   "id": "fdb581ee-17d9-4036-9232-a3eb949058e2",
   "metadata": {},
   "outputs": [
    {
     "name": "stdout",
     "output_type": "stream",
     "text": [
      "2 3 4 5 6 7 8 9 10 \n",
      "4 6 8 10 12 14 16 18 20 \n",
      "6 9 12 15 18 21 24 27 30 \n",
      "8 12 16 20 24 28 32 36 40 \n",
      "10 15 20 25 30 35 40 45 50 \n",
      "12 18 24 30 36 42 48 54 60 \n",
      "14 21 28 35 42 49 56 63 70 \n",
      "16 24 32 40 48 56 64 72 80 \n",
      "18 27 36 45 54 63 72 81 90 \n",
      "20 30 40 50 60 70 80 90 100 \n"
     ]
    }
   ],
   "source": [
    "for i in range(1,11):\n",
    "    for j in range(2,11):\n",
    "        print(i*j,end=\" \")\n",
    "    print()\n"
   ]
  },
  {
   "cell_type": "code",
   "execution_count": 3,
   "id": "60f4fffd-58c9-4c9a-a36e-140276a66c7d",
   "metadata": {},
   "outputs": [
    {
     "name": "stdout",
     "output_type": "stream",
     "text": [
      "1 3 5 7 9 11 13 15 17 19 "
     ]
    }
   ],
   "source": [
    "sum=0\n",
    "n=10\n",
    "for i in range(1,n+1):\n",
    "    sum=i+(i-1)\n",
    "    print(sum,end=\" \")\n",
    "\n"
   ]
  },
  {
   "cell_type": "code",
   "execution_count": 4,
   "id": "706797c1-85b0-441b-8b0d-c321b53097e1",
   "metadata": {},
   "outputs": [
    {
     "name": "stdin",
     "output_type": "stream",
     "text": [
      "Enter Cost Price:  9000\n",
      "Enter Selling Price:  11000\n"
     ]
    },
    {
     "name": "stdout",
     "output_type": "stream",
     "text": [
      "Profit\n"
     ]
    }
   ],
   "source": [
    "cp=int(input(\"Enter Cost Price: \"))\n",
    "sp=int(input(\"Enter Selling Price: \"))\n",
    "if(cp>sp):\n",
    "       print(\"Loss\")\n",
    "else:\n",
    "    print(\"Profit\")"
   ]
  },
  {
   "cell_type": "code",
   "execution_count": 5,
   "id": "8f480e57-9240-4f0b-b4e4-a74541681803",
   "metadata": {},
   "outputs": [
    {
     "name": "stdout",
     "output_type": "stream",
     "text": [
      "1 8 27 64 "
     ]
    }
   ],
   "source": [
    "n=4\n",
    "for i in range(1,n+1):\n",
    "    print(i**3,end=\" \")\n",
    "    "
   ]
  },
  {
   "cell_type": "code",
   "execution_count": 6,
   "id": "646aa041-ede7-4a4d-b69b-b95cfee412ab",
   "metadata": {},
   "outputs": [
    {
     "name": "stdout",
     "output_type": "stream",
     "text": [
      "120\n"
     ]
    }
   ],
   "source": [
    "n=5\n",
    "fact=1\n",
    "for i in range(1,n+1):\n",
    "    fact*=i\n",
    "print(fact)"
   ]
  },
  {
   "cell_type": "code",
   "execution_count": 7,
   "id": "a427dafc-f7ae-41bf-8ce3-8dc93f0475fc",
   "metadata": {},
   "outputs": [
    {
     "name": "stdout",
     "output_type": "stream",
     "text": [
      "1 2 3 4 Done\n"
     ]
    }
   ],
   "source": [
    "for i in range(1,5):\n",
    "    print(i,end=\" \")\n",
    "else:\n",
    "    print(\"Done\")"
   ]
  },
  {
   "cell_type": "code",
   "execution_count": 8,
   "id": "3d558a11-9252-4d34-8f84-40fa3e2c62c4",
   "metadata": {},
   "outputs": [
    {
     "name": "stdout",
     "output_type": "stream",
     "text": [
      "0 1 2 3 4 5 6 7 8 9 10 11 "
     ]
    }
   ],
   "source": [
    "i=0\n",
    "while(i<=11):\n",
    "    print(i,end=\" \")\n",
    "    i+=1\n",
    "    "
   ]
  },
  {
   "cell_type": "code",
   "execution_count": 9,
   "id": "9fbc4855-e89b-4d11-8823-137a5a62f813",
   "metadata": {},
   "outputs": [
    {
     "name": "stdout",
     "output_type": "stream",
     "text": [
      "-10 -9 -8 -7 -6 -5 -4 -3 -2 -1 "
     ]
    }
   ],
   "source": [
    "for i in range(-10,0):\n",
    "    print(i,end=\" \")\n",
    "   \n"
   ]
  },
  {
   "cell_type": "code",
   "execution_count": 10,
   "id": "70bb4fdb-7a6c-434e-a0de-9f3b7f13c85f",
   "metadata": {},
   "outputs": [
    {
     "name": "stdin",
     "output_type": "stream",
     "text": [
      "Enter input 9\n"
     ]
    },
    {
     "name": "stdout",
     "output_type": "stream",
     "text": [
      "Invalid\n"
     ]
    }
   ],
   "source": [
    "user=int(input(\"Enter input\"))\n",
    "if(user==1):\n",
    "    cm=float(input(\"Enter value in cm\"))\n",
    "    ft=cm*0.032\n",
    "    print(ft)\n",
    "elif(user==2):\n",
    "    km=float(input(\"Enter value in km\"))\n",
    "    miles=km*0.621\n",
    "    print(miles)\n",
    "elif(user==3):\n",
    "    usd=input(\"Enter usd\")\n",
    "    inr=usd*83\n",
    "    print(inr)\n",
    "elif(user==4):\n",
    "       pass\n",
    "else:\n",
    "    print(\"Invalid\")\n",
    "    \n",
    "    \n",
    "    "
   ]
  },
  {
   "cell_type": "code",
   "execution_count": 11,
   "id": "f8e548d5-d264-488b-bcb5-8fcc7f3379fe",
   "metadata": {},
   "outputs": [
    {
     "name": "stdin",
     "output_type": "stream",
     "text": [
      "Enter Temperature:  60\n",
      "Enter Humidity:  90\n"
     ]
    },
    {
     "name": "stdout",
     "output_type": "stream",
     "text": [
      "Hot and Humid\n"
     ]
    }
   ],
   "source": [
    "temp=int(input(\"Enter Temperature: \"))\n",
    "humid=int(input(\"Enter Humidity: \"))\n",
    "if(temp>=30 and humid>=90):\n",
    "          print(\"Hot and Humid\")\n",
    "elif(temp>=30 and humid<90):\n",
    "    print(\"Hot\")\n",
    "elif(temp<30 and humid>=90):\n",
    "    print(\"cold anf Humid\")\n",
    "else:\n",
    "    print(\"Cool\")\n",
    "    "
   ]
  },
  {
   "cell_type": "code",
   "execution_count": 12,
   "id": "afa5b982-bf00-4d2e-90f8-aa13f7aa45a8",
   "metadata": {},
   "outputs": [
    {
     "name": "stdin",
     "output_type": "stream",
     "text": [
      "Enter angle1:  90\n",
      "Enter angle2:  90\n",
      "Enter angle3:  10\n"
     ]
    },
    {
     "name": "stdout",
     "output_type": "stream",
     "text": [
      "No\n"
     ]
    }
   ],
   "source": [
    "a1=int(input(\"Enter angle1: \"))\n",
    "a2=int(input(\"Enter angle2: \"))\n",
    "a3=int(input(\"Enter angle3: \"))\n",
    "if(a1+a2+a3==180):\n",
    "    print(\"Yes\")\n",
    "else:\n",
    "            print(\"No\")"
   ]
  },
  {
   "cell_type": "code",
   "execution_count": null,
   "id": "62236ccd-654f-4a6b-9d44-07a881f8be9c",
   "metadata": {},
   "outputs": [],
   "source": []
  }
 ],
 "metadata": {
  "kernelspec": {
   "display_name": "Python 3 (ipykernel)",
   "language": "python",
   "name": "python3"
  },
  "language_info": {
   "codemirror_mode": {
    "name": "ipython",
    "version": 3
   },
   "file_extension": ".py",
   "mimetype": "text/x-python",
   "name": "python",
   "nbconvert_exporter": "python",
   "pygments_lexer": "ipython3",
   "version": "3.11.4"
  }
 },
 "nbformat": 4,
 "nbformat_minor": 5
}
